{
 "cells": [
  {
   "cell_type": "code",
   "execution_count": 1,
   "id": "c663d885",
   "metadata": {
    "_cell_guid": "b1076dfc-b9ad-4769-8c92-a6c4dae69d19",
    "_uuid": "8f2839f25d086af736a60e9eeb907d3b93b6e0e5",
    "execution": {
     "iopub.execute_input": "2022-10-24T07:43:24.345965Z",
     "iopub.status.busy": "2022-10-24T07:43:24.344991Z",
     "iopub.status.idle": "2022-10-24T07:43:26.097929Z",
     "shell.execute_reply": "2022-10-24T07:43:26.096921Z"
    },
    "papermill": {
     "duration": 1.762737,
     "end_time": "2022-10-24T07:43:26.101088",
     "exception": false,
     "start_time": "2022-10-24T07:43:24.338351",
     "status": "completed"
    },
    "tags": []
   },
   "outputs": [],
   "source": [
    "import numpy as np\n",
    "import pandas as pd\n",
    "import seaborn as sns\n",
    "import matplotlib.pyplot as plt\n",
    "%matplotlib inline\n",
    "\n",
    "from sklearn.model_selection import train_test_split\n",
    "from sklearn.feature_extraction.text import CountVectorizer\n",
    "from sklearn.feature_extraction.text import TfidfVectorizer"
   ]
  },
  {
   "cell_type": "code",
   "execution_count": 2,
   "id": "fcfda125",
   "metadata": {
    "execution": {
     "iopub.execute_input": "2022-10-24T07:43:26.109523Z",
     "iopub.status.busy": "2022-10-24T07:43:26.109101Z",
     "iopub.status.idle": "2022-10-24T07:43:26.373550Z",
     "shell.execute_reply": "2022-10-24T07:43:26.372462Z"
    },
    "papermill": {
     "duration": 0.271648,
     "end_time": "2022-10-24T07:43:26.376359",
     "exception": false,
     "start_time": "2022-10-24T07:43:26.104711",
     "status": "completed"
    },
    "tags": []
   },
   "outputs": [],
   "source": [
    "base_path = '/kaggle/input/feedback-prize-english-language-learning/'\n",
    "train_data = pd.read_csv(base_path + 'train.csv')\n",
    "test_data = pd.read_csv(base_path + 'test.csv')\n",
    "sample = pd.read_csv(base_path + 'sample_submission.csv')"
   ]
  },
  {
   "cell_type": "markdown",
   "id": "f74fe9f3",
   "metadata": {
    "papermill": {
     "duration": 0.002962,
     "end_time": "2022-10-24T07:43:26.382804",
     "exception": false,
     "start_time": "2022-10-24T07:43:26.379842",
     "status": "completed"
    },
    "tags": []
   },
   "source": [
    "**XGBOOST**"
   ]
  },
  {
   "cell_type": "code",
   "execution_count": 3,
   "id": "00c4bcbc",
   "metadata": {
    "execution": {
     "iopub.execute_input": "2022-10-24T07:43:26.390991Z",
     "iopub.status.busy": "2022-10-24T07:43:26.390557Z",
     "iopub.status.idle": "2022-10-24T07:43:26.415454Z",
     "shell.execute_reply": "2022-10-24T07:43:26.413925Z"
    },
    "papermill": {
     "duration": 0.032221,
     "end_time": "2022-10-24T07:43:26.418244",
     "exception": false,
     "start_time": "2022-10-24T07:43:26.386023",
     "status": "completed"
    },
    "tags": []
   },
   "outputs": [],
   "source": [
    "X = train_data['full_text']\n",
    "y = train_data[['cohesion','syntax','vocabulary','phraseology','grammar','conventions']]\n",
    "X_test = test_data['full_text']"
   ]
  },
  {
   "cell_type": "code",
   "execution_count": 4,
   "id": "44adee7b",
   "metadata": {
    "execution": {
     "iopub.execute_input": "2022-10-24T07:43:26.426614Z",
     "iopub.status.busy": "2022-10-24T07:43:26.426213Z",
     "iopub.status.idle": "2022-10-24T07:43:27.809281Z",
     "shell.execute_reply": "2022-10-24T07:43:27.807954Z"
    },
    "papermill": {
     "duration": 1.390462,
     "end_time": "2022-10-24T07:43:27.812155",
     "exception": false,
     "start_time": "2022-10-24T07:43:26.421693",
     "status": "completed"
    },
    "tags": []
   },
   "outputs": [],
   "source": [
    "from nltk.corpus import stopwords\n",
    "from nltk.stem import PorterStemmer\n",
    "import re\n",
    "\n",
    "STOPWORDS = set(stopwords.words('english'))\n",
    "ps = PorterStemmer()\n",
    "\n",
    "def remove_stopwords(text):\n",
    "    return \" \".join([word for word in str(text).split() if word not in STOPWORDS])\n",
    "\n",
    "def data_preprocess(text):\n",
    "    text = text.strip() #removes blank spaces before and after the text\n",
    "    text = re.sub(r'\\n', '', text) #regex to replace the new line characters with empty\n",
    "    text = text.lower() #lower case conversion\n",
    "    text = ps.stem(text) #stem the words\n",
    "    text = remove_stopwords(text)\n",
    "    return text\n",
    "\n",
    "\n",
    "X= X.apply(data_preprocess)\n",
    "X_test = X_test.apply(data_preprocess)"
   ]
  },
  {
   "cell_type": "code",
   "execution_count": 5,
   "id": "fca84800",
   "metadata": {
    "execution": {
     "iopub.execute_input": "2022-10-24T07:43:27.820769Z",
     "iopub.status.busy": "2022-10-24T07:43:27.820336Z",
     "iopub.status.idle": "2022-10-24T07:43:30.302960Z",
     "shell.execute_reply": "2022-10-24T07:43:30.301680Z"
    },
    "papermill": {
     "duration": 2.490241,
     "end_time": "2022-10-24T07:43:30.305859",
     "exception": false,
     "start_time": "2022-10-24T07:43:27.815618",
     "status": "completed"
    },
    "tags": []
   },
   "outputs": [],
   "source": [
    "tfidf_vectorizer = TfidfVectorizer(max_features = 15000, ngram_range=(2,2))\n",
    "X_train = tfidf_vectorizer.fit_transform(X)\n",
    "X_test = tfidf_vectorizer.transform(X_test)"
   ]
  },
  {
   "cell_type": "code",
   "execution_count": 6,
   "id": "7e2a774c",
   "metadata": {
    "execution": {
     "iopub.execute_input": "2022-10-24T07:43:30.314463Z",
     "iopub.status.busy": "2022-10-24T07:43:30.314076Z",
     "iopub.status.idle": "2022-10-24T07:43:30.319239Z",
     "shell.execute_reply": "2022-10-24T07:43:30.318062Z"
    },
    "papermill": {
     "duration": 0.01268,
     "end_time": "2022-10-24T07:43:30.322062",
     "exception": false,
     "start_time": "2022-10-24T07:43:30.309382",
     "status": "completed"
    },
    "tags": []
   },
   "outputs": [],
   "source": [
    "# count_vectorizer = CountVectorizer(max_features = 15000)\n",
    "# X = count_vectorizer.fit_transform(X)\n",
    "# X_test = count_vectorizer.fit_transform(X_test)"
   ]
  },
  {
   "cell_type": "code",
   "execution_count": 7,
   "id": "db59cb90",
   "metadata": {
    "execution": {
     "iopub.execute_input": "2022-10-24T07:43:30.331246Z",
     "iopub.status.busy": "2022-10-24T07:43:30.330342Z",
     "iopub.status.idle": "2022-10-24T07:43:30.459343Z",
     "shell.execute_reply": "2022-10-24T07:43:30.458330Z"
    },
    "papermill": {
     "duration": 0.136427,
     "end_time": "2022-10-24T07:43:30.461958",
     "exception": false,
     "start_time": "2022-10-24T07:43:30.325531",
     "status": "completed"
    },
    "tags": []
   },
   "outputs": [],
   "source": [
    "from xgboost import XGBRegressor\n",
    "\n",
    "def xgboost_syntax(X,y,x_sub):\n",
    "   \n",
    "    xgb = XGBRegressor(objective ='reg:squarederror')\n",
    "    xgb.fit(X, y)\n",
    "    return  xgb.predict(x_sub)\n"
   ]
  },
  {
   "cell_type": "code",
   "execution_count": 8,
   "id": "e7cd7817",
   "metadata": {
    "execution": {
     "iopub.execute_input": "2022-10-24T07:43:30.470782Z",
     "iopub.status.busy": "2022-10-24T07:43:30.469935Z",
     "iopub.status.idle": "2022-10-24T07:44:12.696597Z",
     "shell.execute_reply": "2022-10-24T07:44:12.695642Z"
    },
    "papermill": {
     "duration": 42.234205,
     "end_time": "2022-10-24T07:44:12.699620",
     "exception": false,
     "start_time": "2022-10-24T07:43:30.465415",
     "status": "completed"
    },
    "tags": []
   },
   "outputs": [],
   "source": [
    "#'cohesion','syntax','vocabulary','phraseology','grammar','conventions'\n",
    "\n",
    "cohesion = xgboost_syntax(X_train,y['cohesion'],X_test)\n",
    "syntax = xgboost_syntax(X_train,y['syntax'],X_test)\n",
    "vocabulary = xgboost_syntax(X_train,y['vocabulary'],X_test)\n",
    "phraseology = xgboost_syntax(X_train,y['phraseology'],X_test)\n",
    "grammar = xgboost_syntax(X_train,y['grammar'],X_test)\n",
    "conventions = xgboost_syntax(X_train,y['conventions'],X_test)"
   ]
  },
  {
   "cell_type": "code",
   "execution_count": 9,
   "id": "e782ca33",
   "metadata": {
    "execution": {
     "iopub.execute_input": "2022-10-24T07:44:12.709945Z",
     "iopub.status.busy": "2022-10-24T07:44:12.709503Z",
     "iopub.status.idle": "2022-10-24T07:44:12.722363Z",
     "shell.execute_reply": "2022-10-24T07:44:12.721232Z"
    },
    "papermill": {
     "duration": 0.021214,
     "end_time": "2022-10-24T07:44:12.725025",
     "exception": false,
     "start_time": "2022-10-24T07:44:12.703811",
     "status": "completed"
    },
    "tags": []
   },
   "outputs": [],
   "source": [
    "sample['cohesion']=cohesion\n",
    "sample['syntax']=syntax\n",
    "sample['vocabulary']=vocabulary\n",
    "sample['phraseology']=phraseology\n",
    "sample['grammar']=grammar\n",
    "sample['conventions']=conventions\n",
    "sample['text_id']=test_data['text_id']\n",
    "sample.to_csv('submission.csv',index=False)"
   ]
  },
  {
   "cell_type": "code",
   "execution_count": 10,
   "id": "d625260e",
   "metadata": {
    "execution": {
     "iopub.execute_input": "2022-10-24T07:44:12.734108Z",
     "iopub.status.busy": "2022-10-24T07:44:12.733703Z",
     "iopub.status.idle": "2022-10-24T07:44:12.754176Z",
     "shell.execute_reply": "2022-10-24T07:44:12.753291Z"
    },
    "papermill": {
     "duration": 0.027871,
     "end_time": "2022-10-24T07:44:12.756656",
     "exception": false,
     "start_time": "2022-10-24T07:44:12.728785",
     "status": "completed"
    },
    "tags": []
   },
   "outputs": [
    {
     "data": {
      "text/html": [
       "<div>\n",
       "<style scoped>\n",
       "    .dataframe tbody tr th:only-of-type {\n",
       "        vertical-align: middle;\n",
       "    }\n",
       "\n",
       "    .dataframe tbody tr th {\n",
       "        vertical-align: top;\n",
       "    }\n",
       "\n",
       "    .dataframe thead th {\n",
       "        text-align: right;\n",
       "    }\n",
       "</style>\n",
       "<table border=\"1\" class=\"dataframe\">\n",
       "  <thead>\n",
       "    <tr style=\"text-align: right;\">\n",
       "      <th></th>\n",
       "      <th>text_id</th>\n",
       "      <th>cohesion</th>\n",
       "      <th>syntax</th>\n",
       "      <th>vocabulary</th>\n",
       "      <th>phraseology</th>\n",
       "      <th>grammar</th>\n",
       "      <th>conventions</th>\n",
       "    </tr>\n",
       "  </thead>\n",
       "  <tbody>\n",
       "    <tr>\n",
       "      <th>0</th>\n",
       "      <td>0000C359D63E</td>\n",
       "      <td>2.986126</td>\n",
       "      <td>2.832387</td>\n",
       "      <td>3.320928</td>\n",
       "      <td>3.156395</td>\n",
       "      <td>2.896758</td>\n",
       "      <td>3.011446</td>\n",
       "    </tr>\n",
       "    <tr>\n",
       "      <th>1</th>\n",
       "      <td>000BAD50D026</td>\n",
       "      <td>2.993685</td>\n",
       "      <td>2.770010</td>\n",
       "      <td>3.008603</td>\n",
       "      <td>2.964389</td>\n",
       "      <td>2.382430</td>\n",
       "      <td>2.760096</td>\n",
       "    </tr>\n",
       "    <tr>\n",
       "      <th>2</th>\n",
       "      <td>00367BB2546B</td>\n",
       "      <td>3.002274</td>\n",
       "      <td>3.680946</td>\n",
       "      <td>3.062879</td>\n",
       "      <td>2.849426</td>\n",
       "      <td>3.997732</td>\n",
       "      <td>3.680632</td>\n",
       "    </tr>\n",
       "  </tbody>\n",
       "</table>\n",
       "</div>"
      ],
      "text/plain": [
       "        text_id  cohesion    syntax  vocabulary  phraseology   grammar  \\\n",
       "0  0000C359D63E  2.986126  2.832387    3.320928     3.156395  2.896758   \n",
       "1  000BAD50D026  2.993685  2.770010    3.008603     2.964389  2.382430   \n",
       "2  00367BB2546B  3.002274  3.680946    3.062879     2.849426  3.997732   \n",
       "\n",
       "   conventions  \n",
       "0     3.011446  \n",
       "1     2.760096  \n",
       "2     3.680632  "
      ]
     },
     "execution_count": 10,
     "metadata": {},
     "output_type": "execute_result"
    }
   ],
   "source": [
    "sample"
   ]
  }
 ],
 "metadata": {
  "kernelspec": {
   "display_name": "Python 3",
   "language": "python",
   "name": "python3"
  },
  "language_info": {
   "codemirror_mode": {
    "name": "ipython",
    "version": 3
   },
   "file_extension": ".py",
   "mimetype": "text/x-python",
   "name": "python",
   "nbconvert_exporter": "python",
   "pygments_lexer": "ipython3",
   "version": "3.7.12"
  },
  "papermill": {
   "default_parameters": {},
   "duration": 58.356196,
   "end_time": "2022-10-24T07:44:13.583824",
   "environment_variables": {},
   "exception": null,
   "input_path": "__notebook__.ipynb",
   "output_path": "__notebook__.ipynb",
   "parameters": {},
   "start_time": "2022-10-24T07:43:15.227628",
   "version": "2.3.4"
  }
 },
 "nbformat": 4,
 "nbformat_minor": 5
}
